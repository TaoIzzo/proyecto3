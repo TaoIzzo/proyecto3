{
 "cells": [
  {
   "cell_type": "code",
   "execution_count": 1,
   "id": "063d8028-09db-4dae-b4ff-1b31055c1503",
   "metadata": {},
   "outputs": [],
   "source": [
    "import joblib\n",
    "import pandas as pd\n",
    "from sklearn.metrics import accuracy_score"
   ]
  },
  {
   "cell_type": "code",
   "execution_count": 2,
   "id": "d7c6043a-31ae-40ba-8776-c9cab9b84e28",
   "metadata": {},
   "outputs": [],
   "source": [
    "# Cargar el modelo guardado\n",
    "modelo = joblib.load('svm_lineal_modelo.pkl')  # Ajusta la ruta según corresponda"
   ]
  },
  {
   "cell_type": "code",
   "execution_count": 3,
   "id": "892566c4-db83-42e4-a17e-d6e7cb1c1ccf",
   "metadata": {},
   "outputs": [],
   "source": [
    "# Cargar los datos originales para obtener la muestra de validación\n",
    "datos_originales = pd.read_csv('datacl.csv')"
   ]
  },
  {
   "cell_type": "code",
   "execution_count": 4,
   "id": "cab85664-57df-45fd-a4e3-f633a0e5ccf2",
   "metadata": {},
   "outputs": [],
   "source": [
    "# Tomar una muestra de los datos originales para validación (20%)\n",
    "muestra = datos_originales.sample(frac=0.2, random_state=42)"
   ]
  },
  {
   "cell_type": "code",
   "execution_count": 5,
   "id": "52d3383d-b9c5-493d-91b7-93a6c7367fa0",
   "metadata": {},
   "outputs": [],
   "source": [
    "# Extraer los nombres de las características excluyendo 'Target' y 'Unnamed: 0' si existe\n",
    "caracteristicas = [col for col in datos_originales.columns if col != \"Target\" and col != \"Unnamed: 0\"]"
   ]
  },
  {
   "cell_type": "code",
   "execution_count": 6,
   "id": "15fa5729-d19b-4191-814d-0107146d75db",
   "metadata": {},
   "outputs": [],
   "source": [
    "# Separar características y etiquetas\n",
    "X_muestra = muestra.loc[:, caracteristicas]\n",
    "y_muestra = muestra['Target']"
   ]
  },
  {
   "cell_type": "code",
   "execution_count": 7,
   "id": "58762014-b3be-4678-8a0f-a2569e2506de",
   "metadata": {},
   "outputs": [],
   "source": [
    "# Eliminar la columna 'Unnamed: 0' de la muestra si existe\n",
    "if 'Unnamed: 0' in X_muestra.columns:\n",
    "    X_muestra = X_muestra.drop(columns=['Unnamed: 0'])"
   ]
  },
  {
   "cell_type": "code",
   "execution_count": 8,
   "id": "2aa40e32-326e-4059-80d2-5e080921f5e4",
   "metadata": {},
   "outputs": [],
   "source": [
    "# Predecir las etiquetas para la muestra utilizando el modelo cargado\n",
    "predicciones_muestra = modelo.predict(X_muestra)"
   ]
  },
  {
   "cell_type": "code",
   "execution_count": 9,
   "id": "74a94e8e-aeba-4069-8f3e-980008d05b04",
   "metadata": {},
   "outputs": [],
   "source": [
    "# Calcular la exactitud del modelo en la muestra\n",
    "exactitud = accuracy_score(y_muestra, predicciones_muestra)"
   ]
  },
  {
   "cell_type": "code",
   "execution_count": 10,
   "id": "0286aaba-7b30-4a01-9c46-d11de0efdc49",
   "metadata": {},
   "outputs": [
    {
     "name": "stdout",
     "output_type": "stream",
     "text": [
      "Exactitud del modelo: 0.91\n"
     ]
    }
   ],
   "source": [
    "# Mostrar la exactitud\n",
    "print(f'Exactitud del modelo: {exactitud:.2f}')"
   ]
  },
  {
   "cell_type": "code",
   "execution_count": 11,
   "id": "6631ddd6-1aca-4ee7-b773-dd8ba75a0283",
   "metadata": {},
   "outputs": [],
   "source": [
    "# Mostrar las predicciones y los valores reales para comparar\n",
    "resultado_comparacion = pd.DataFrame({\n",
    "    'Predicción': predicciones_muestra,\n",
    "    'Valor Real': y_muestra.values\n",
    "})"
   ]
  },
  {
   "cell_type": "code",
   "execution_count": 12,
   "id": "2b0bc175-741f-4fef-9b47-060936a2a71f",
   "metadata": {},
   "outputs": [
    {
     "name": "stdout",
     "output_type": "stream",
     "text": [
      "     Predicción  Valor Real\n",
      "0             0           0\n",
      "1             0           0\n",
      "2             0           0\n",
      "3             0           0\n",
      "4             1           0\n",
      "..          ...         ...\n",
      "420           0           0\n",
      "421           1           1\n",
      "422           0           0\n",
      "423           0           0\n",
      "424           0           0\n",
      "\n",
      "[425 rows x 2 columns]\n"
     ]
    }
   ],
   "source": [
    "# Imprimir el resultado de la comparación\n",
    "print(resultado_comparacion)"
   ]
  }
 ],
 "metadata": {
  "kernelspec": {
   "display_name": "Python (p3)",
   "language": "python",
   "name": "p3"
  },
  "language_info": {
   "codemirror_mode": {
    "name": "ipython",
    "version": 3
   },
   "file_extension": ".py",
   "mimetype": "text/x-python",
   "name": "python",
   "nbconvert_exporter": "python",
   "pygments_lexer": "ipython3",
   "version": "3.11.4"
  }
 },
 "nbformat": 4,
 "nbformat_minor": 5
}
